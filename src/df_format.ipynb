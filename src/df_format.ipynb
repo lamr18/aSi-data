{
 "cells": [
  {
   "cell_type": "code",
   "execution_count": 3,
   "metadata": {},
   "outputs": [],
   "source": [
    "import pandas as pd\n",
    "from df_gen import *\n",
    "\n",
    "%load_ext autoreload\n",
    "%autoreload 2"
   ]
  },
  {
   "cell_type": "code",
   "execution_count": null,
   "metadata": {},
   "outputs": [],
   "source": [
    "# concatenate all .xyz files into the dataset file\n",
    "! cat ../data/xyz/*-atoms.xyz > ../data/xyz/dataset-npt_anneal_293K_-1.xyz"
   ]
  },
  {
   "cell_type": "code",
   "execution_count": 2,
   "metadata": {},
   "outputs": [],
   "source": [
    "# Convert this file to a dataframe. This requires ase==3.22.1 while the rest of the analysis requires ase==3.23.0\n",
    "#df=convert_xyz_pickle('../data/xyz/dataset-npt_anneal_293K_-1.xyz')"
   ]
  },
  {
   "cell_type": "code",
   "execution_count": 23,
   "metadata": {},
   "outputs": [
    {
     "data": {
      "text/plain": [
       "Index(['energy', 'forces', 'ase_atoms'], dtype='object')"
      ]
     },
     "execution_count": 23,
     "metadata": {},
     "output_type": "execute_result"
    }
   ],
   "source": [
    "df=pd.read_pickle('../data/xyz/dataset-npt_anneal_293K_-1.xyz.pkl.gzip',compression=\"gzip\")\n",
    "df.columns"
   ]
  },
  {
   "cell_type": "code",
   "execution_count": 24,
   "metadata": {},
   "outputs": [],
   "source": [
    "df=build_df_unary(df)\n",
    "df.rename(columns={'energy':'mtp_energy'}, inplace=True)"
   ]
  },
  {
   "cell_type": "code",
   "execution_count": 42,
   "metadata": {},
   "outputs": [],
   "source": [
    "# obtain config type and assign unique color to each category\n",
    "df[\"Category_2\"] = df['ase_atoms'].apply(config_sort_v2)\n",
    "color_map = {cat:cycle_colors(ii) for ii,cat in enumerate(df[\"Category_2\"].unique())}\n",
    "df[\"Category_color_2\"] = df[\"Category_2\"].map(color_map)\n",
    "df['size']=df['nb_atoms'].apply(marker_size)"
   ]
  },
  {
   "cell_type": "code",
   "execution_count": 37,
   "metadata": {},
   "outputs": [],
   "source": [
    "# get energy relative to c-Si\n",
    "df['dE_mtp']=df['mtp_energy']+(163161.251478124/1000) # energy of a relaxed configuration of 1,000 c-Si atoms\n",
    "df['mtp_at_E_NN']=df['ase_atoms'].apply(NN_E_mtp)"
   ]
  },
  {
   "cell_type": "code",
   "execution_count": 40,
   "metadata": {},
   "outputs": [],
   "source": [
    "# Descriptors used in our analysis\n",
    "df[\"soap_sim_cSi\"] = df['ase_atoms'].apply(structure_soap_cSi)\n",
    "df[\"atomistic_soap_sim_cSi\"] = df['ase_atoms'].apply(atomistic_soap_cSi)\n",
    "df[\"CNA\"]=df['ase_atoms'].apply(CNA)"
   ]
  },
  {
   "cell_type": "code",
   "execution_count": 46,
   "metadata": {},
   "outputs": [],
   "source": [
    "# Crystalline/amorph\n",
    "df['ptm_cat']=df.apply(ptm_cat, axis=1)\n"
   ]
  },
  {
   "cell_type": "code",
   "execution_count": 51,
   "metadata": {},
   "outputs": [
    {
     "data": {
      "text/plain": [
       "Index(['mtp_energy', 'forces', 'ase_atoms', 'vol_per_atom', 'F_max',\n",
       "       'nb_atoms', 'label', 'Category_2', 'Category_color_2', 'size', 'dE_mtp',\n",
       "       'soap_sim_cSi', 'mtp_at_E_NN', 'atomistic_soap_sim_cSi', 'CNA',\n",
       "       'ptm_cat'],\n",
       "      dtype='object')"
      ]
     },
     "execution_count": 51,
     "metadata": {},
     "output_type": "execute_result"
    }
   ],
   "source": [
    "df.columns"
   ]
  },
  {
   "cell_type": "code",
   "execution_count": 53,
   "metadata": {},
   "outputs": [],
   "source": [
    "# Export dataframe\n",
    "cols=['ase_atoms', 'nb_atoms', 'size', 'vol_per_atom', 'label', 'Category_2', 'Category_color_2', 'mtp_energy', 'dE_mtp', 'mtp_at_E_NN', 'forces',  'F_max', 'soap_sim_cSi', 'atomistic_soap_sim_cSi', 'CNA', 'ptm_cat']\n",
    "df_data=df[cols]\n",
    "df_data.to_pickle(\"../data/xyz/df_npt_anneal_293K_10ps_-1_generated.pckl.gzip\", compression=\"gzip\", protocol=4)"
   ]
  }
 ],
 "metadata": {
  "kernelspec": {
   "display_name": "envase",
   "language": "python",
   "name": "python3"
  },
  "language_info": {
   "codemirror_mode": {
    "name": "ipython",
    "version": 3
   },
   "file_extension": ".py",
   "mimetype": "text/x-python",
   "name": "python",
   "nbconvert_exporter": "python",
   "pygments_lexer": "ipython3",
   "version": "3.8.17"
  }
 },
 "nbformat": 4,
 "nbformat_minor": 2
}
